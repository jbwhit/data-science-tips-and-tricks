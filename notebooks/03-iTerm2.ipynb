{
 "cells": [
  {
   "cell_type": "markdown",
   "metadata": {},
   "source": [
    "# iTerm2\n",
    "\n",
    "Install Shell Integration\n",
    "\n",
    "Asking for help on this one -- after installing iTerm2 completion, and updating the .profile \n",
    "\n",
    "```bash\n",
    "export iterm2_hostname=IPADDRESS.compute-1.amazonaws.com\n",
    "```\n",
    "it's still trying to connect via the wrong ssh key. \n",
    "\n",
    "Learn tmux \n",
    "\n",
    " - http://www.hamvocke.com/blog/a-quick-and-easy-guide-to-tmux/"
   ]
  },
  {
   "cell_type": "markdown",
   "metadata": {
    "collapsed": true
   },
   "source": [
    "## Instant Replay\n",
    "\n",
    "`CMD-OPT-B`"
   ]
  },
  {
   "cell_type": "markdown",
   "metadata": {},
   "source": [
    "## Shell Integration\n",
    "\n",
    "> **Download files from remote hosts with a click.**\n",
    "\n",
    "> You can right click on a filename (e.g., in the output of ls) to download it.\n",
    "\n",
    "> **Drag-drop files to upload with scp.**\n",
    "\n",
    "> Hold down option and drag-drop a file from Finder into iTerm2 to upload it.\n",
    "\n",
    "> -- https://www.iterm2.com/documentation-shell-integration.html"
   ]
  },
  {
   "cell_type": "code",
   "execution_count": null,
   "metadata": {
    "collapsed": true
   },
   "outputs": [],
   "source": []
  }
 ],
 "metadata": {
  "kernelspec": {
   "display_name": "py3",
   "language": "python",
   "name": "py3"
  },
  "language_info": {
   "codemirror_mode": {
    "name": "ipython",
    "version": 3
   },
   "file_extension": ".py",
   "mimetype": "text/x-python",
   "name": "python",
   "nbconvert_exporter": "python",
   "pygments_lexer": "ipython3",
   "version": "3.6.1"
  },
  "toc": {
   "colors": {
    "hover_highlight": "#DAA520",
    "running_highlight": "#FF0000",
    "selected_highlight": "#FFD700"
   },
   "moveMenuLeft": true,
   "nav_menu": {
    "height": "30px",
    "width": "252px"
   },
   "navigate_menu": true,
   "number_sections": true,
   "sideBar": true,
   "threshold": 4,
   "toc_cell": false,
   "toc_section_display": "block",
   "toc_window_display": false,
   "widenNotebook": false
  }
 },
 "nbformat": 4,
 "nbformat_minor": 2
}
