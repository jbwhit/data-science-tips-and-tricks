{
 "cells": [
  {
   "cell_type": "markdown",
   "metadata": {},
   "source": [
    "# ssh \n",
    "\n",
    "Creating keys and SSH Agent https://help.github.com/articles/generating-a-new-ssh-key-and-adding-it-to-the-ssh-agent/\n",
    "\n",
    "Some security literature: https://wiki.mozilla.org/Security/Guidelines/OpenSSH#OpenSSH_client"
   ]
  },
  {
   "cell_type": "markdown",
   "metadata": {},
   "source": [
    "TODO: Add how to create key"
   ]
  },
  {
   "cell_type": "markdown",
   "metadata": {},
   "source": [
    "## keys\n",
    "\n",
    "```\n",
    "$ cat ~/.ssh/config\n",
    "\n",
    "Host supercomputer\n",
    "    HostName address.ip.numbers\n",
    "    User username\n",
    "    IdentityFile ~/.ssh/id_rsa\n",
    "```\n",
    "\n",
    "Send your public key to the computer you want access to with `ssh-copy-id` like:\n",
    "\n",
    "```bash\n",
    "ssh-copy-id -i ~/.ssh/id_rsa.pub username@address.ip.numbers\n",
    "```"
   ]
  },
  {
   "cell_type": "markdown",
   "metadata": {},
   "source": [
    "## Open Question: Should you use SSH-Agent?"
   ]
  },
  {
   "cell_type": "code",
   "execution_count": null,
   "metadata": {
    "collapsed": true
   },
   "outputs": [],
   "source": []
  }
 ],
 "metadata": {
  "kernelspec": {
   "display_name": "py3",
   "language": "python",
   "name": "py3"
  },
  "language_info": {
   "codemirror_mode": {
    "name": "ipython",
    "version": 3
   },
   "file_extension": ".py",
   "mimetype": "text/x-python",
   "name": "python",
   "nbconvert_exporter": "python",
   "pygments_lexer": "ipython3",
   "version": "3.6.1"
  },
  "toc": {
   "colors": {
    "hover_highlight": "#DAA520",
    "running_highlight": "#FF0000",
    "selected_highlight": "#FFD700"
   },
   "moveMenuLeft": true,
   "nav_menu": {
    "height": "80px",
    "width": "252px"
   },
   "navigate_menu": true,
   "number_sections": true,
   "sideBar": true,
   "threshold": 4,
   "toc_cell": false,
   "toc_section_display": "block",
   "toc_window_display": false,
   "widenNotebook": false
  }
 },
 "nbformat": 4,
 "nbformat_minor": 2
}
