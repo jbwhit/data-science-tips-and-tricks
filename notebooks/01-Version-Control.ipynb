{
 "cells": [
  {
   "cell_type": "markdown",
   "metadata": {},
   "source": [
    "# Git\n",
    "\n",
    "## Command line"
   ]
  },
  {
   "cell_type": "markdown",
   "metadata": {},
   "source": [
    "Have your shell tell you which branch you're in: \n",
    "\n",
    "```bash\n",
    "mkdir ~/.bash\n",
    "cd ~/.bash\n",
    "git clone git://github.com/jimeh/git-aware-prompt.git\n",
    "```"
   ]
  },
  {
   "cell_type": "markdown",
   "metadata": {},
   "source": [
    "Add the following to your `.bashrc`:\n",
    "    \n",
    "```bash\n",
    "export GITAWAREPROMPT=~/.bash/git-aware-prompt\n",
    "source $GITAWAREPROMPT/main.sh\n",
    "```"
   ]
  },
  {
   "cell_type": "markdown",
   "metadata": {},
   "source": [
    "Have tab completion work with `git` commands:\n",
    "\n",
    "```bash\n",
    "curl https://raw.githubusercontent.com/git/git/master/contrib/completion/git-completion.bash -o ~/.git-completion.bash\n",
    "\n",
    "if [ -f ~/.git-completion.bash ]; then\n",
    "  . ~/.git-completion.bash\n",
    "fi\n",
    "```"
   ]
  },
  {
   "cell_type": "markdown",
   "metadata": {},
   "source": [
    "## [Git Flow](https://guides.github.com/introduction/flow/index.html)\n",
    "\n",
    "For working on development and master branches."
   ]
  },
  {
   "cell_type": "markdown",
   "metadata": {},
   "source": [
    "## [Git Town](http://www.git-town.com/)\n",
    "\n",
    "Install with:\n",
    "\n",
    "```bash\n",
    "brew install git-town\n",
    "```"
   ]
  },
  {
   "cell_type": "code",
   "execution_count": 1,
   "metadata": {
    "ExecuteTime": {
     "end_time": "2017-06-26T19:09:51.361400Z",
     "start_time": "2017-06-26T19:09:51.357040Z"
    },
    "collapsed": true
   },
   "outputs": [],
   "source": [
    "from IPython.display import YouTubeVideo"
   ]
  },
  {
   "cell_type": "code",
   "execution_count": 2,
   "metadata": {
    "ExecuteTime": {
     "end_time": "2017-06-26T19:09:51.899223Z",
     "start_time": "2017-06-26T19:09:51.676235Z"
    }
   },
   "outputs": [
    {
     "data": {
      "image/jpeg": "[encoded data removed]",
      "text/html": [
       "\n",
       "        <iframe\n",
       "            width=\"560\"\n",
       "            height=\"315\"\n",
       "            src=\"https://www.youtube.com/embed/oLaUsUlFfTo\"\n",
       "            frameborder=\"0\"\n",
       "            allowfullscreen\n",
       "        ></iframe>\n",
       "        "
      ],
      "text/plain": [
       "<IPython.lib.display.YouTubeVideo at 0x10f92ada0>"
      ]
     },
     "execution_count": 2,
     "metadata": {},
     "output_type": "execute_result"
    }
   ],
   "source": [
    "YouTubeVideo('oLaUsUlFfTo', width=560, height=315)"
   ]
  },
  {
   "cell_type": "markdown",
   "metadata": {},
   "source": [
    "### Commands\n",
    "\n",
    "Git Town provides these additional Git commands:\n",
    "\n",
    "__Development Workflow__\n",
    "\n",
    "* [git town hack](https://github.com/Originate/git-town/blob/master/documentation/commands/hack.md) - cuts a new up-to-date feature branch off the main branch\n",
    "* [git town sync](https://github.com/Originate/git-town/blob/master/documentation/commands/sync.md) - updates the current branch with all ongoing changes\n",
    "* [git town new-pull-request](https://github.com/Originate/git-town/blob/master/documentation/commands/new-pull-request.md) - create a new pull request\n",
    "* [git town ship](https://github.com/Originate/git-town/blob/master/documentation/commands/ship.md) - delivers a completed feature branch and removes it\n",
    "\n",
    "\n",
    "__Repository Maintenance__\n",
    "\n",
    "* [git town kill](https://github.com/Originate/git-town/blob/master/documentation/commands/kill.md) - removes a feature branch\n",
    "* [git town prune-branches](https://github.com/Originate/git-town/blob/master/documentation/commands/prune-branches.md) - delete all merged branches\n",
    "* [git town rename-branch](https://github.com/Originate/git-town/blob/master/documentation/commands/rename-branch.md) - rename a branch\n",
    "* [git town append](https://github.com/Originate/git-town/blob/master/documentation/commands/append.md) - insert a new branch as a child of the current branch\n",
    "* [git town prepend](https://github.com/Originate/git-town/blob/master/documentation/commands/prepend.md) - insert a new branch between the current branch and its parent\n",
    "* [git town repo](https://github.com/Originate/git-town/blob/master/documentation/commands/repo.md) - view the repository homepage\n",
    "\n",
    "\n",
    "__Git Town Configuration__\n",
    "\n",
    "* [git town config](https://github.com/Originate/git-town/blob/master/documentation/commands/config.md) - displays or updates your Git Town configuration\n",
    "* [git town hack-push-flag](https://github.com/Originate/git-town/blob/master/documentation/commands/hack-push-flag.md) - configures whether new empty branches are pushed to origin\n",
    "* [git town main-branch](https://github.com/Originate/git-town/blob/master/documentation/commands/main-branch.md) - displays or sets the main development branch for the current repo\n",
    "* [git town perennial-branches](https://github.com/Originate/git-town/blob/master/documentation/commands/perennial-branches.md) - displays or updates the perennial branches for the current repo\n",
    "* [git town pull-branch-strategy](https://github.com/Originate/git-town/blob/master/documentation/commands/pull-branch-strategy.md) - displays or sets the strategy with which perennial branches are updated\n",
    "* [git town set-parent-branch](https://github.com/Originate/git-town/blob/master/documentation/commands/set-parent-branch.md) - updates a branch's parent\n",
    "\n",
    "\n",
    "__Other Commands__\n",
    "\n",
    "* [git town alias](https://github.com/Originate/git-town/blob/master/documentation/commands/alias.md) - adds or removes shorter aliases for Git Town commands\n",
    "* [git town install-fish-autocompletion](https://github.com/Originate/git-town/blob/master/documentation/commands/install-fish-autocompletion.md) - installs the autocompletion definition for [Fish shell](http://fishshell.com)\n",
    "* [git town version](https://github.com/Originate/git-town/blob/master/documentation/commands/version.md) - displays the installed version of Git Town\n"
   ]
  },
  {
   "cell_type": "markdown",
   "metadata": {
    "collapsed": true
   },
   "source": [
    "## nbdime – diffing and merging of Jupyter Notebooks\n",
    "\n",
    "Link: https://nbdime.readthedocs.io/en/latest/index.html"
   ]
  },
  {
   "cell_type": "code",
   "execution_count": null,
   "metadata": {
    "collapsed": true
   },
   "outputs": [],
   "source": []
  }
 ],
 "metadata": {
  "kernelspec": {
   "display_name": "py3",
   "language": "python",
   "name": "py3"
  },
  "language_info": {
   "codemirror_mode": {
    "name": "ipython",
    "version": 3
   },
   "file_extension": ".py",
   "mimetype": "text/x-python",
   "name": "python",
   "nbconvert_exporter": "python",
   "pygments_lexer": "ipython3",
   "version": "3.6.1"
  },
  "toc": {
   "colors": {
    "hover_highlight": "#DAA520",
    "running_highlight": "#FF0000",
    "selected_highlight": "#FFD700"
   },
   "moveMenuLeft": true,
   "nav_menu": {
    "height": "103px",
    "width": "252px"
   },
   "navigate_menu": true,
   "number_sections": true,
   "sideBar": true,
   "threshold": 4,
   "toc_cell": false,
   "toc_section_display": "block",
   "toc_window_display": false,
   "widenNotebook": false
  }
 },
 "nbformat": 4,
 "nbformat_minor": 2
}
