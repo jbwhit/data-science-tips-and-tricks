{
 "cells": [
  {
   "cell_type": "markdown",
   "metadata": {},
   "source": [
    "## Create publically available conda env\n",
    "\n",
    "Have to have a user at http://anaconda.org/\n",
    "\n",
    "\n",
    "```bash\n",
    "pykernel=py3\n",
    "conda env export -n \"${pykernel}\" > environment.yml\n",
    "# put your username not mine (qwpbqoiq)\n",
    "anaconda upload environment.yml -u qwpbqoiq\n",
    "```\n",
    "\n",
    "## Create publically available conda env\n",
    "\n",
    "\n",
    "```bash\n",
    "anaconda upload autoreload-example.ipynb\n",
    "anaconda download username/my-notebook\n",
    "```\n",
    "\n",
    "\n",
    "## Let others install\n",
    "\n",
    "```bash\n",
    "conda update conda\n",
    "conda config --append channels conda-forge\n",
    "conda install anaconda-client\n",
    "conda env create qwpbqoiq/py3\n",
    "source activate py3\n",
    "```\n",
    "\n",
    "## Bonus\n",
    "\n",
    "https://conda.io/docs/using/envs.html#linux-and-macos\n",
    "\n"
   ]
  },
  {
   "cell_type": "code",
   "execution_count": 1,
   "metadata": {
    "ExecuteTime": {
     "end_time": "2017-06-26T19:25:08.903149Z",
     "start_time": "2017-06-26T19:25:06.844793Z"
    }
   },
   "outputs": [
    {
     "name": "stdout",
     "output_type": "stream",
     "text": [
      "Using Anaconda API: https://api.anaconda.org\n",
      "qwpbqoiq/svds_minimalnb has been downloaded as svds_minimalnb.ipynb.\n"
     ]
    }
   ],
   "source": [
    "!anaconda download qwpbqoiq/svds_minimalnb"
   ]
  },
  {
   "cell_type": "code",
   "execution_count": null,
   "metadata": {
    "collapsed": true
   },
   "outputs": [],
   "source": []
  }
 ],
 "metadata": {
  "kernelspec": {
   "display_name": "py3",
   "language": "python",
   "name": "py3"
  },
  "language_info": {
   "codemirror_mode": {
    "name": "ipython",
    "version": 3
   },
   "file_extension": ".py",
   "mimetype": "text/x-python",
   "name": "python",
   "nbconvert_exporter": "python",
   "pygments_lexer": "ipython3",
   "version": "3.6.1"
  },
  "toc": {
   "colors": {
    "hover_highlight": "#DAA520",
    "running_highlight": "#FF0000",
    "selected_highlight": "#FFD700"
   },
   "moveMenuLeft": true,
   "nav_menu": {
    "height": "85px",
    "width": "252px"
   },
   "navigate_menu": true,
   "number_sections": true,
   "sideBar": true,
   "threshold": 4,
   "toc_cell": false,
   "toc_section_display": "block",
   "toc_window_display": false,
   "widenNotebook": false
  }
 },
 "nbformat": 4,
 "nbformat_minor": 2
}
